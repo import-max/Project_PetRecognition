{
 "cells": [
  {
   "cell_type": "code",
   "execution_count": 2,
   "id": "3f8fdd5e",
   "metadata": {},
   "outputs": [],
   "source": [
    "import json\n",
    "import numpy as np\n",
    "import os\n",
    "import glob\n",
    "import pickle"
   ]
  },
  {
   "cell_type": "code",
   "execution_count": 18,
   "id": "0b54005a",
   "metadata": {},
   "outputs": [],
   "source": [
    "train_path = './Training/DOG/train_jsons'\n",
    "valid_path = './Validation/DOG/valid_jsons'"
   ]
  },
  {
   "cell_type": "code",
   "execution_count": 19,
   "id": "eec3b195",
   "metadata": {},
   "outputs": [
    {
     "name": "stdout",
     "output_type": "stream",
     "text": [
      "['./Training/DOG/train_jsons\\\\BODYLOWER', './Training/DOG/train_jsons\\\\BODYSCRATCH', './Training/DOG/train_jsons\\\\BODYSHAKE', './Training/DOG/train_jsons\\\\FEETUP', './Training/DOG/train_jsons\\\\FOOTUP', './Training/DOG/train_jsons\\\\HEADING', './Training/DOG/train_jsons\\\\LYING', './Training/DOG/train_jsons\\\\MOUNTING', './Training/DOG/train_jsons\\\\SIT', './Training/DOG/train_jsons\\\\TAILING', './Training/DOG/train_jsons\\\\TAILLOW', './Training/DOG/train_jsons\\\\TURN', './Training/DOG/train_jsons\\\\WALKRUN']\n"
     ]
    }
   ],
   "source": [
    "train_file_list = glob.glob(train_path + '/*')\n",
    "print(train_file_list)"
   ]
  },
  {
   "cell_type": "code",
   "execution_count": 20,
   "id": "e2b39971",
   "metadata": {},
   "outputs": [
    {
     "name": "stdout",
     "output_type": "stream",
     "text": [
      "39537\n"
     ]
    }
   ],
   "source": [
    "# 총 train dataset video 갯수\n",
    "sum = 0\n",
    "for path in train_file_list:\n",
    "    train_json_list = glob.glob(path + '/*')\n",
    "    sum += len(train_json_list)\n",
    "print(sum)"
   ]
  },
  {
   "cell_type": "code",
   "execution_count": 36,
   "id": "3d163325",
   "metadata": {},
   "outputs": [
    {
     "name": "stdout",
     "output_type": "stream",
     "text": [
      "4949\n"
     ]
    }
   ],
   "source": [
    "# 총 valid dataset video 갯수\n",
    "sum = 0\n",
    "valid_file_list = glob.glob(valid_path + '/*')\n",
    "for path in valid_file_list:\n",
    "    valid_json_list = glob.glob(path + '/*')\n",
    "    sum += len(valid_json_list)\n",
    "print(sum)"
   ]
  },
  {
   "cell_type": "code",
   "execution_count": 45,
   "id": "96bfa109",
   "metadata": {},
   "outputs": [],
   "source": [
    "def getDataset(file_path, FRAME_LENGTH=100, NUMBER_OF_POINTS=30):\n",
    "    file_list = glob.glob(file_path + '/*')\n",
    "    total_X = []\n",
    "    total_labels = []\n",
    "    \n",
    "    for path in file_list:\n",
    "        json_list = glob.glob(path + '/*')\n",
    "        for jsonname in json_list:\n",
    "            with open(jsonname, 'r', encoding='UTF-8') as json_file:\n",
    "                video_kp_list = []\n",
    "                json_data = json.load(json_file)\n",
    "                height = json_data[\"metadata\"][\"height\"]\n",
    "                width = json_data[\"metadata\"][\"width\"]\n",
    "                emotion = json_data[\"metadata\"]['inspect']['emotion']\n",
    "                total_labels.append(emotion)\n",
    "                \n",
    "                for item in json_data[\"annotations\"]:\n",
    "                    frame_kp_list = []\n",
    "                    for key, value in sorted(item['keypoints'].items(), key=lambda item: int(item[0])):\n",
    "                        if value is not None:\n",
    "                            frame_kp_list.append(value['x']/width)\n",
    "                            frame_kp_list.append(value['y']/height)\n",
    "                        else:\n",
    "                            frame_kp_list.append(0)\n",
    "                            frame_kp_list.append(0)\n",
    "                    video_kp_list.append(frame_kp_list) \n",
    "                \n",
    "                # 프레임 수 패딩(길이: 100)\n",
    "                FRAME_LENGTH = 100\n",
    "                NUMBER_OF_POINTS = 30\n",
    "                if len(video_kp_list) >= FRAME_LENGTH:\n",
    "                    video_kp_list = video_kp_list[:FRAME_LENGTH] \n",
    "                else:\n",
    "                    for i in range(FRAME_LENGTH - len(video_kp_list)):\n",
    "                        video_kp_list.append([0 for i in range(NUMBER_OF_POINTS)])\n",
    "                        \n",
    "                total_X.append(video_kp_list)\n",
    "        \n",
    "    total_X = np.array(total_X)\n",
    "    total_Y = np.array(total_labels)\n",
    "    return total_X, total_Y"
   ]
  },
  {
   "cell_type": "code",
   "execution_count": 38,
   "id": "4434afbe",
   "metadata": {},
   "outputs": [
    {
     "name": "stdout",
     "output_type": "stream",
     "text": [
      "(39537, 100, 30) (39537,)\n"
     ]
    }
   ],
   "source": [
    "train_X, train_Y = getDataset(file_path=train_path)\n",
    "print(train_X.shape, train_Y.shape)"
   ]
  },
  {
   "cell_type": "code",
   "execution_count": 46,
   "id": "8b80e92e",
   "metadata": {},
   "outputs": [
    {
     "name": "stdout",
     "output_type": "stream",
     "text": [
      "(4949, 100, 30) (4949,)\n"
     ]
    }
   ],
   "source": [
    "valid_X, valid_Y = getDataset(file_path=valid_path)\n",
    "print(valid_X.shape, valid_Y.shape)"
   ]
  },
  {
   "cell_type": "code",
   "execution_count": 58,
   "id": "5c6fc80c",
   "metadata": {},
   "outputs": [],
   "source": [
    "# save dataset numpy array\n",
    "np.savez('train_dataset.npz', X=train_X, Y=train_Y)\n",
    "np.savez('valid_dataset.npz', X=valid_X, Y=valid_Y)"
   ]
  },
  {
   "cell_type": "code",
   "execution_count": 59,
   "id": "d9183195",
   "metadata": {},
   "outputs": [
    {
     "name": "stdout",
     "output_type": "stream",
     "text": [
      "X\n",
      "Y\n"
     ]
    }
   ],
   "source": [
    "# load npz\n",
    "data = np.load('train_dataset.npz')\n",
    "for i in data:\n",
    "    print(i)"
   ]
  },
  {
   "cell_type": "code",
   "execution_count": 61,
   "id": "b6afe88d",
   "metadata": {},
   "outputs": [
    {
     "name": "stdout",
     "output_type": "stream",
     "text": [
      "(39537, 100, 30) (39537,)\n"
     ]
    }
   ],
   "source": [
    "test1 = data['X']\n",
    "test2 = data['Y']\n",
    "print(test1.shape, test2.shape)"
   ]
  }
 ],
 "metadata": {
  "kernelspec": {
   "display_name": "Python 3",
   "language": "python",
   "name": "python3"
  },
  "language_info": {
   "codemirror_mode": {
    "name": "ipython",
    "version": 3
   },
   "file_extension": ".py",
   "mimetype": "text/x-python",
   "name": "python",
   "nbconvert_exporter": "python",
   "pygments_lexer": "ipython3",
   "version": "3.8.8"
  }
 },
 "nbformat": 4,
 "nbformat_minor": 5
}
